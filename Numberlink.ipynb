{
  "cells": [
    {
      "cell_type": "markdown",
      "id": "dietary-illness",
      "metadata": {
        "id": "dietary-illness"
      },
      "source": [
        "# Numberlink"
      ]
    },
    {
      "cell_type": "markdown",
      "id": "7f4e6d98",
      "metadata": {},
      "source": [
        "---\n",
        "## Setup"
      ]
    },
    {
      "cell_type": "markdown",
      "id": "39fbf213",
      "metadata": {},
      "source": [
        "### Import libraries"
      ]
    },
    {
      "cell_type": "code",
      "execution_count": 15,
      "id": "accurate-validation",
      "metadata": {
        "id": "accurate-validation"
      },
      "outputs": [],
      "source": [
        "from typing import Dict, List, Tuple\n",
        "\n",
        "import numpy as np\n",
        "import matplotlib.pyplot as plt\n",
        "from matplotlib.colors import LinearSegmentedColormap\n",
        "from seaborn import heatmap\n",
        "# import networkx as nx\n",
        "import queue"
      ]
    },
    {
      "cell_type": "markdown",
      "id": "23ceae2c",
      "metadata": {},
      "source": [
        "### Define the Numberlink puzzle class"
      ]
    },
    {
      "cell_type": "code",
      "execution_count": 16,
      "id": "8999ddec",
      "metadata": {},
      "outputs": [],
      "source": [
        "class Numberlink:\n",
        "    def __init__(self, paper: np.ndarray):\n",
        "        self.paper = paper\n",
        "        self.ends : Dict[int, List[Tuple[int, int]]] = {}\n",
        "        (height, width) = paper.shape\n",
        "        for i in range(height):\n",
        "            for j in range(width):\n",
        "                pos = (i, j)\n",
        "                if paper[pos]:\n",
        "                    if paper[pos] not in self.ends:\n",
        "                        self.ends[paper[pos]] = [pos]\n",
        "                    else:\n",
        "                        self.ends[paper[pos]].append(pos)\n",
        "    @property\n",
        "    def shape(self):\n",
        "        return self.paper.shape\n",
        "    @property\n",
        "    def cmap(self):\n",
        "        hsv = plt.get_cmap('hsv')\n",
        "        colors = [(1, 1, 1)] + [hsv(i) for i in range(1, 256)]\n",
        "        return LinearSegmentedColormap.from_list(\"my_cmap\", colors, N=256)\n",
        "    @property\n",
        "    def nNumber(self):\n",
        "        return len(self.ends)"
      ]
    },
    {
      "cell_type": "markdown",
      "id": "dc285ef0",
      "metadata": {},
      "source": [
        "### Define the action set (directions)"
      ]
    },
    {
      "cell_type": "code",
      "execution_count": 17,
      "id": "44b9702b",
      "metadata": {},
      "outputs": [],
      "source": [
        "LEFT = (0, -1)\n",
        "RIGHT = (0, 1)\n",
        "UP = (-1, 0)\n",
        "DOWN = (1, 0)\n",
        "DIRECTIONS = (RIGHT, DOWN, LEFT, UP)"
      ]
    },
    {
      "cell_type": "markdown",
      "id": "acknowledged-delay",
      "metadata": {
        "id": "acknowledged-delay"
      },
      "source": [
        "### Define the helper functions"
      ]
    },
    {
      "cell_type": "code",
      "execution_count": 20,
      "id": "green-ethics",
      "metadata": {
        "id": "green-ethics"
      },
      "outputs": [],
      "source": [
        "def getNeighborPos(pos: Tuple[int, int], direction: Tuple[int, int]) -> Tuple[int, int]:\n",
        "    ''' Get the position of the neighbor cell in the given direction\n",
        "        pos: Position of the current cell\n",
        "        direction: direction to the current cell\n",
        "        return: Position of the neighbor cell\n",
        "    '''\n",
        "    return (pos[0] + direction[0], pos[1] + direction[1])\n",
        "\n",
        "\n",
        "def isInBorder(pos: Tuple[int, int], shape: Tuple[int, int]) -> bool:\n",
        "    ''' Check if a position is in the border of the grid\n",
        "        pos: Position to check\n",
        "        shape: Shape of the puzzle paper\n",
        "        return: True if the position is in the border, False otherwise\n",
        "    '''\n",
        "    return pos[0] >= 0 and pos[0] < shape[0] and pos[1] >= 0 and pos[1] < shape[1]\n",
        "\n",
        "\n",
        "def printEmptyPaper(puzzle: Numberlink):\n",
        "    ''' Print the unsolved puzzle corresponding to a numeric/empty grid\n",
        "        puzzle: A Numberlink puzzle\n",
        "    '''\n",
        "    (height, width) = puzzle.shape\n",
        "    \n",
        "    print()\n",
        "    for i in range(height + 1):\n",
        "        for _ in range(width):\n",
        "            print(\"+\", end=\"\")\n",
        "            print(\"---\" if i % height == 0 else \"   \", end=\"\")\n",
        "        print(\"+\")\n",
        "        if (i >= height):\n",
        "            break\n",
        "        for j in range(width):\n",
        "            print(\" \" if j else \"|\", end=\"\")\n",
        "            if puzzle.paper[i, j] == 0:\n",
        "                print(\"   \", end=\"\")\n",
        "                continue\n",
        "            print(\"{:03d}\".format(puzzle.paper[i, j]), end=\"\")\n",
        "        print(\"|\")\n",
        "\n",
        "\n",
        "def showPaper(puzzle: Numberlink):\n",
        "    ''' Display the paper corresponding to a empty/numeric/connected grid\n",
        "        Display ending positions of each number on the grid \n",
        "        puzzle: A Numberlink puzzle\n",
        "        Output: Heatmap grid of the puzzle with markers\n",
        "    '''\n",
        "    (height, width) = puzzle.shape\n",
        "    paper = 255 * (puzzle.paper / puzzle.nNumber)\n",
        "    \n",
        "    f = plt.figure(figsize = (width,height))\n",
        "    heatmap(paper, vmin = 0, vmax = 255, cmap = puzzle.cmap, annot=puzzle.paper, cbar = False, xticklabels=False, yticklabels=False)"
      ]
    },
    {
      "cell_type": "markdown",
      "id": "furnished-coach",
      "metadata": {
        "id": "furnished-coach"
      },
      "source": [
        "---\n",
        "## Create a sample puzzle"
      ]
    },
    {
      "cell_type": "code",
      "execution_count": 19,
      "id": "arbitrary-preview",
      "metadata": {
        "id": "arbitrary-preview"
      },
      "outputs": [
        {
          "name": "stdout",
          "output_type": "stream",
          "text": [
            "Puzzle of dimensions (3, 3)\n",
            "\n",
            "+---+---+---+\n",
            "|001        |\n",
            "+   +   +   +\n",
            "|    002    |\n",
            "+   +   +   +\n",
            "|002 001    |\n",
            "+---+---+---+\n"
          ]
        },
        {
          "data": {
            "image/png": "[encoded data removed]",
            "text/plain": [
              "<Figure size 300x300 with 1 Axes>"
            ]
          },
          "metadata": {},
          "output_type": "display_data"
        }
      ],
      "source": [
        "# Create the puzzle\n",
        "# 0: empty grid, reachable within a path\n",
        "# other numbers: ending positions of cooresponding numbers\n",
        "\n",
        "paper = np.array(\n",
        "          [[1, 0, 0],\n",
        "           [0, 2, 0],\n",
        "           [2, 1, 0]]\n",
        "        )\n",
        "puzzle = Numberlink(paper)\n",
        "\n",
        "# Print the puzzle using helper functions\n",
        "print(\"Puzzle of dimensions\", puzzle.shape)\n",
        "printEmptyPaper(puzzle)\n",
        "showPaper(puzzle)"
      ]
    },
    {
      "cell_type": "markdown",
      "id": "vanilla-sustainability",
      "metadata": {
        "id": "vanilla-sustainability"
      },
      "source": [
        "---\n",
        "## Solution based on Backtracking"
      ]
    },
    {
      "cell_type": "markdown",
      "id": "74a825d4",
      "metadata": {},
      "source": [
        "### Goal Test Predicates\n",
        "\n",
        "Consider the Numberlink puzzle as a problem similar to the map coloring problem -- we need to try to color the whole \"map\" with colors. But in Numberlink, the **goals** change to:\n",
        "1. No number is positioned within the path of any line.\n",
        "    - i.e. If a grid is an end-point with a specific color (number) `k`, **EXACTLY one** of its neighboring grids can also be colored as `k`.\n",
        "2. Lines do not branch or intersect.\n",
        "    - i.e. If a grid is NOT an end-point, it can be colored as `k` only if **EXACTLY two** of its neighboring grids are also colored as `k`."
      ]
    },
    {
      "cell_type": "code",
      "execution_count": 22,
      "id": "athletic-reduction",
      "metadata": {
        "id": "athletic-reduction"
      },
      "outputs": [],
      "source": [
        "def isSolved(puzzle: Numberlink):\n",
        "    ''' Check if the puzzle is solved\n",
        "        puzzle: A Numberlink puzzle\n",
        "        return: True if the puzzle is solved, False otherwise\n",
        "    '''\n",
        "    pass"
      ]
    },
    {
      "cell_type": "markdown",
      "id": "useful-trial",
      "metadata": {
        "id": "useful-trial"
      },
      "source": [
        "### Backtracking Search"
      ]
    },
    {
      "cell_type": "code",
      "execution_count": null,
      "id": "considered-square",
      "metadata": {
        "id": "considered-square"
      },
      "outputs": [],
      "source": [
        "# Solution based on backtracking\n",
        "\n",
        "def solve1(puzzle: Numberlink) -> bool:\n",
        "    ''' Solve the Numberlink puzzle using backtracking\n",
        "        puzzle: A Numberlink puzzle\n",
        "        return: True if the puzzle is solved, False if impossible to solve\n",
        "    '''\n",
        "    pass"
      ]
    },
    {
      "cell_type": "markdown",
      "id": "a549c212",
      "metadata": {},
      "source": [
        "---\n",
        "## Solution based on Constraint Propagation"
      ]
    },
    {
      "cell_type": "markdown",
      "id": "0e641648",
      "metadata": {},
      "source": [
        "### Constraints\n",
        "1. No number is positioned within the path of any line.\n",
        "    - i.e. If a grid is an **end-point** with a specific color (number) `k` and has **four filled neighbors** (including borders), **EXACTLY one** of its neighboring grids can also be colored as `k`.\n",
        "2. Lines do not branch or intersect.\n",
        "    - i.e. If a **non-empty** grid is **NOT an end-point** and has **four filled neighbors** (including borders), it can be colored as `k` only if **EXACTLY two** of its neighboring grids are also colored as `k`."
      ]
    },
    {
      "cell_type": "code",
      "execution_count": null,
      "id": "28bb6926",
      "metadata": {},
      "outputs": [],
      "source": [
        "# Constraint checking function\n",
        "def countNeighbors(puzzle: Numberlink, pos: Tuple[int, int]) -> int:\n",
        "    ''' Count the number of neighbors of a grid (including border)\n",
        "        puzzle: A Numberlink puzzle\n",
        "        pos: Position to check\n",
        "        return: Number of neighbors\n",
        "    '''\n",
        "    count = 0\n",
        "    for direction in DIRECTIONS:\n",
        "        neighbor = getNeighborPos(pos, direction)\n",
        "        # Count border OR non-empty neighbor\n",
        "        if not isInBorder(neighbor, puzzle.shape) or puzzle.paper[neighbor] != 0:\n",
        "            count += 1\n",
        "    return count\n",
        "\n",
        "\n",
        "def isSafe(puzzle: Numberlink, pos: Tuple[int, int]) -> bool:\n",
        "    ''' Check if the coloring `k` to `pos` satisfies the constraints\n",
        "        puzzle: A Numberlink puzzle\n",
        "        pos: Position to be colored\n",
        "        return: True if the puzzle is safe, False otherwise\n",
        "    '''\n",
        "    for dir1 in DIRECTIONS:\n",
        "        neighbor1 = getNeighborPos(pos, dir1)\n",
        "        if not isInBorder(neighbor1, puzzle.shape):\n",
        "            continue\n",
        "        \n",
        "        # If neighbor1 is empty, skip\n",
        "        neighbor1_k = puzzle.paper[neighbor1]\n",
        "        if neighbor1_k == 0:\n",
        "            continue\n",
        "        \n",
        "        count = 0\n",
        "        neighbor2_count = countNeighbors(puzzle, neighbor1)\n",
        "        # If neighbor1 is an end-point, and has 4 neighbor grids\n",
        "        # (including border), check if # of neighbor1's neighbors\n",
        "        # (neighbor2) with the same color neighbor1_k == 1\n",
        "        if neighbor1 in puzzle.ends[neighbor1_k] and neighbor2_count == 4:\n",
        "            for dir2 in DIRECTIONS:\n",
        "                neighbor2 = getNeighborPos(neighbor1, dir2)\n",
        "                if not isInBorder(neighbor2, puzzle.shape):\n",
        "                    continue\n",
        "                if puzzle.paper[neighbor2] == neighbor1_k:\n",
        "                    count += 1\n",
        "            if count != 1:\n",
        "                return False\n",
        "        \n",
        "        # Else If neighbor1 has 4 neighbor grids (including \n",
        "        # border), check if # of neighbor1's neighbors\n",
        "        # (neighbor2) with the same color neighbor1_k == 2\n",
        "        elif neighbor2_count == 4:\n",
        "            for dir2 in DIRECTIONS:\n",
        "                neighbor2 = getNeighborPos(neighbor1, dir2)\n",
        "                if not isInBorder(neighbor2, puzzle.shape):\n",
        "                    continue\n",
        "                if puzzle.paper[neighbor2] == neighbor1_k:\n",
        "                    count += 1\n",
        "            if count != 2:\n",
        "                return False\n",
        "    return True"
      ]
    },
    {
      "cell_type": "markdown",
      "id": "22b6961f",
      "metadata": {},
      "source": [
        "### Constraint Propagation Search"
      ]
    },
    {
      "cell_type": "code",
      "execution_count": null,
      "id": "b6b4dff4",
      "metadata": {},
      "outputs": [],
      "source": [
        "# Solution based on constraint propagation\n",
        "def getNextPos(width: int, pos: Tuple[int, int]) -> Tuple[int, int]:\n",
        "    ''' Get the next position to be colored\n",
        "        width: Width of the puzzle paper\n",
        "        pos: Current position\n",
        "        return: Next position to be colored\n",
        "    '''\n",
        "    (x, y) = pos\n",
        "    return (x, y + 1) if y + 1 < width else (x + 1, 0)\n",
        "\n",
        "\n",
        "def solve2(puzzle: Numberlink, pos: Tuple[int, int]) -> bool:\n",
        "    ''' Solve the Numberlink `puzzle` using constraint propagation\n",
        "        puzzle: A Numberlink puzzle\n",
        "        return: True if the puzzle is solved, False if impossible to solve\n",
        "    '''\n",
        "    (height, width) = puzzle.shape\n",
        "    (x, y) = pos\n",
        "    if x >= height or y >= width:\n",
        "        return True\n",
        "    if puzzle.paper[pos] != 0:\n",
        "        return solve2(puzzle, getNextPos(width, pos))\n",
        "    for k in range(1, puzzle.nNumber+1):\n",
        "        puzzle.paper[pos] = k\n",
        "        if isSafe(puzzle, pos) and solve2(puzzle, getNextPos(width, pos)):\n",
        "            return True\n",
        "        puzzle.paper[pos] = 0\n",
        "    return False\n",
        "\n",
        "if solve2(puzzle, (0, 0)):\n",
        "    print(\"Solved\")\n",
        "    showPaper(puzzle)\n",
        "else:\n",
        "    print(\"Impossible to solve\")"
      ]
    }
  ],
  "metadata": {
    "colab": {
      "provenance": []
    },
    "kernelspec": {
      "display_name": "Python 3 (ipykernel)",
      "language": "python",
      "name": "python3"
    },
    "language_info": {
      "codemirror_mode": {
        "name": "ipython",
        "version": 3
      },
      "file_extension": ".py",
      "mimetype": "text/x-python",
      "name": "python",
      "nbconvert_exporter": "python",
      "pygments_lexer": "ipython3",
      "version": "3.11.6"
    }
  },
  "nbformat": 4,
  "nbformat_minor": 5
}
