{
  "cells": [
    {
      "cell_type": "markdown",
      "id": "dietary-illness",
      "metadata": {
        "id": "dietary-illness"
      },
      "source": [
        "# Numberlink"
      ]
    },
    {
      "cell_type": "markdown",
      "id": "7f4e6d98",
      "metadata": {},
      "source": [
        "---\n",
        "## Setup"
      ]
    },
    {
      "cell_type": "markdown",
      "id": "39fbf213",
      "metadata": {},
      "source": [
        "### Import libraries"
      ]
    },
    {
      "cell_type": "code",
      "execution_count": null,
      "id": "accurate-validation",
      "metadata": {
        "id": "accurate-validation"
      },
      "outputs": [],
      "source": [
        "# Import necessary libraries\n",
        "from typing import Dict, List, Tuple\n",
        "\n",
        "import numpy as np\n",
        "import matplotlib.pyplot as plt\n",
        "from matplotlib.colors import LinearSegmentedColormap\n",
        "from seaborn import heatmap"
      ]
    },
    {
      "cell_type": "markdown",
      "id": "23ceae2c",
      "metadata": {},
      "source": [
        "### Define the Numberlink puzzle class"
      ]
    },
    {
      "cell_type": "code",
      "execution_count": null,
      "id": "8999ddec",
      "metadata": {},
      "outputs": [],
      "source": [
        "class Numberlink:\n",
        "    '''Properties:\n",
        "    \n",
        "            paper:\n",
        "                Stores the puzzle paper in the form of\n",
        "                a 2D array, where 0's represents empty cells\n",
        "                and other integers represents the number.\n",
        "            \n",
        "            ends:\n",
        "                Stores the end-points of each number that appears\n",
        "                in the puzzle paper when creating a `Numberlink`\n",
        "                instance.\n",
        "\n",
        "                The key is the number and the value is a list\n",
        "                of tuples representing the coordinates of the\n",
        "                end points.\n",
        "                \n",
        "                E.g.\n",
        "                ```\n",
        "                {\n",
        "                    1: [(0, 0), (2, 1)],\n",
        "                    2: [(1, 1), (2, 0)],\n",
        "                }\n",
        "                ```\n",
        "                means that the number 1 has end-points at\n",
        "                `(0, 0)` and `(2, 1)` and the number 2 has end-\n",
        "                points at `(1, 1)` and `(2, 0)`.\n",
        "            \n",
        "            shape:\n",
        "                Represents the shape of the puzzle paper in the\n",
        "                form of a tuple `({height}, {width})`.\n",
        "\n",
        "            cmap:\n",
        "                The colormap used in Heatmap to display\n",
        "                the puzzle paper.\n",
        "            \n",
        "            nNumber:\n",
        "                The count of numbers in the puzzle paper.\n",
        "    '''\n",
        "    def __init__(self, paper: np.ndarray):\n",
        "        self.paper = paper\n",
        "        self.ends : Dict[int, List[Tuple[int, int]]] = {}\n",
        "        (height, width) = paper.shape\n",
        "        for i in range(height):\n",
        "            for j in range(width):\n",
        "                pos = (i, j)\n",
        "                if paper[pos]:\n",
        "                    if paper[pos] not in self.ends:\n",
        "                        self.ends[paper[pos]] = [pos]\n",
        "                    else:\n",
        "                        self.ends[paper[pos]].append(pos)\n",
        "    @property\n",
        "    def shape(self):\n",
        "        return self.paper.shape\n",
        "    @property\n",
        "    def cmap(self):\n",
        "        hsv = plt.get_cmap('hsv')\n",
        "        colors = [(1, 1, 1)] + [hsv(i) for i in range(1, 256)]\n",
        "        return LinearSegmentedColormap.from_list(\"my_cmap\", colors, N=256)\n",
        "    @property\n",
        "    def nNumber(self):\n",
        "        return len(self.ends)"
      ]
    },
    {
      "cell_type": "markdown",
      "id": "dc285ef0",
      "metadata": {},
      "source": [
        "### Define the directions"
      ]
    },
    {
      "cell_type": "code",
      "execution_count": null,
      "id": "44b9702b",
      "metadata": {},
      "outputs": [],
      "source": [
        "# Define the directions used to calculate neighbor positions\n",
        "LEFT = (0, -1)\n",
        "RIGHT = (0, 1)\n",
        "UP = (-1, 0)\n",
        "DOWN = (1, 0)\n",
        "DIRECTIONS = (RIGHT, DOWN, LEFT, UP)"
      ]
    },
    {
      "cell_type": "markdown",
      "id": "acknowledged-delay",
      "metadata": {
        "id": "acknowledged-delay"
      },
      "source": [
        "### Define helper functions"
      ]
    },
    {
      "cell_type": "code",
      "execution_count": null,
      "id": "green-ethics",
      "metadata": {
        "id": "green-ethics"
      },
      "outputs": [],
      "source": [
        "def getNextPos(width: int, pos: Tuple[int, int]) -> Tuple[int, int]:\n",
        "    ''' Get the next position to be colored in a row-major order\n",
        "        width: Width of the puzzle paper\n",
        "        pos: Current position\n",
        "        return: Next position to be colored\n",
        "    '''\n",
        "    (x, y) = pos\n",
        "    return (x, y + 1) if y + 1 < width else (x + 1, 0)\n",
        "\n",
        "\n",
        "def getNeighborPos(pos: Tuple[int, int], direction: Tuple[int, int]) -> Tuple[int, int]:\n",
        "    ''' Get the position of the neighbor cell in the given direction\n",
        "        pos: Position of the current cell\n",
        "        direction: Direction to the current cell\n",
        "        return: Position of the neighbor cell\n",
        "    '''\n",
        "    return (pos[0] + direction[0], pos[1] + direction[1])\n",
        "\n",
        "\n",
        "def isInBorder(pos: Tuple[int, int], shape: Tuple[int, int]) -> bool:\n",
        "    ''' Check if a position is in the border of the paper\n",
        "        pos: Position to check\n",
        "        shape: Shape of the puzzle paper\n",
        "        return: True if the position is in the border, False otherwise\n",
        "    '''\n",
        "    return pos[0] >= 0 and pos[0] < shape[0] and pos[1] >= 0 and pos[1] < shape[1]\n",
        "\n",
        "\n",
        "def countNeighbors(puzzle: Numberlink, pos: Tuple[int, int]) -> int:\n",
        "    ''' Count the number of filled neighbors of a grid (including border)\n",
        "        puzzle: A Numberlink puzzle\n",
        "        pos: The position to count filled neighbors\n",
        "        return: Count of filled neighbors including borders\n",
        "    '''\n",
        "    count = 0\n",
        "    for direction in DIRECTIONS:\n",
        "        neighbor = getNeighborPos(pos, direction)\n",
        "        # Count border OR non-empty neighbor\n",
        "        if not isInBorder(neighbor, puzzle.shape) or puzzle.paper[neighbor] != 0:\n",
        "            count += 1\n",
        "    return count\n",
        "\n",
        "\n",
        "def showPaper(puzzle: Numberlink):\n",
        "    ''' Display the paper corresponding to the puzzle where\n",
        "        different colors represent different numbers in that\n",
        "        and ONLY end-points are annotated by their numbers\n",
        "        puzzle: A Numberlink puzzle\n",
        "        Output: Heatmap grid of the puzzle with markers\n",
        "    '''\n",
        "    (height, width) = puzzle.shape\n",
        "    normalized_paper = 255 * (puzzle.paper / puzzle.nNumber)\n",
        "    paper = [\n",
        "        [k if k != 0 and (x, y) in puzzle.ends[k] else \"\"\n",
        "         for y, k in enumerate(row)]\n",
        "         for x, row in enumerate(puzzle.paper)\n",
        "    ]\n",
        "    \n",
        "    f = plt.figure(figsize = (width,height))\n",
        "    heatmap(normalized_paper, vmin = 0, vmax = 255,\n",
        "            cmap = puzzle.cmap, annot=paper, fmt=\"s\",\n",
        "            annot_kws={\"size\": 20}, linecolor=\"black\",\n",
        "            linewidths=0.2, cbar = False, xticklabels=False,\n",
        "            yticklabels=False)"
      ]
    },
    {
      "cell_type": "markdown",
      "id": "furnished-coach",
      "metadata": {
        "id": "furnished-coach"
      },
      "source": [
        "---\n",
        "## Create sample puzzles"
      ]
    },
    {
      "cell_type": "code",
      "execution_count": null,
      "id": "arbitrary-preview",
      "metadata": {
        "id": "arbitrary-preview"
      },
      "outputs": [],
      "source": [
        "# Sample puzzle 1 (3x3)\n",
        "paper = np.array(\n",
        "          [[1, 0, 0],\n",
        "           [0, 2, 0],\n",
        "           [2, 1, 0]]\n",
        "        )\n",
        "puzzle1 = Numberlink(paper)\n",
        "\n",
        "# Print the dimensions of puzzle\n",
        "print(\"Puzzle of dimensions\", puzzle1.shape)\n",
        "# Display the puzzle paper\n",
        "showPaper(1)"
      ]
    },
    {
      "cell_type": "code",
      "execution_count": null,
      "id": "6a9d7836",
      "metadata": {},
      "outputs": [],
      "source": [
        "# Sample puzzle 2 (5x5)\n",
        "paper = np.array(\n",
        "          [[5, 0, 0, 0, 4],\n",
        "           [3, 5, 4, 2, 0],\n",
        "           [0, 0, 0, 3, 0],\n",
        "           [0, 0, 0, 1, 0],\n",
        "           [1, 2, 0, 0, 0]]\n",
        "        )\n",
        "puzzle2 = Numberlink(paper)\n",
        "\n",
        "# Print the dimensions of puzzle\n",
        "print(\"Puzzle of dimensions\", puzzle2.shape)\n",
        "# Display the puzzle paper\n",
        "showPaper(2)"
      ]
    },
    {
      "cell_type": "code",
      "execution_count": null,
      "id": "1f5f587b",
      "metadata": {},
      "outputs": [],
      "source": [
        "# Sample puzzle 3 (6x6)\n",
        "paper = np.array(\n",
        "          [[5, 0, 0, 0, 0, 5],\n",
        "           [0, 0, 0, 6, 0, 0],\n",
        "           [0, 2, 3, 0, 1, 0],\n",
        "           [0, 0, 1, 0, 0, 0],\n",
        "           [0, 0, 0, 0, 6, 4],\n",
        "           [0, 0, 3, 2, 4, 0]]\n",
        "        )\n",
        "puzzle3 = Numberlink(paper)\n",
        "\n",
        "# Print the dimensions of puzzle\n",
        "print(\"Puzzle of dimensions\", puzzle3.shape)\n",
        "# Display the puzzle paper\n",
        "showPaper(3)"
      ]
    },
    {
      "cell_type": "code",
      "execution_count": null,
      "id": "1d6c69a8",
      "metadata": {},
      "outputs": [],
      "source": [
        "# Sample puzzle 4 (9x9)\n",
        "paper = np.array(\n",
        "          [[0, 0, 0, 0, 0, 0, 0, 0, 0],\n",
        "           [0, 0, 0, 2, 3, 0, 0, 4, 0],\n",
        "           [0, 0, 0, 0, 0, 4, 0, 5, 0],\n",
        "           [0, 0, 0, 0, 0, 0, 0, 0, 0],\n",
        "           [0, 0, 0, 0, 6, 0, 5, 0, 7],\n",
        "           [0, 0, 0, 0, 0, 0, 0, 0, 0],\n",
        "           [0, 0, 0, 0, 0, 0, 0, 0, 0],\n",
        "           [0, 0, 0, 0, 0, 0, 8, 0, 0],\n",
        "           [1, 2, 3, 1, 8, 6, 0, 0, 7]]\n",
        "        )\n",
        "puzzle4 = Numberlink(paper)\n",
        "\n",
        "# Print the dimensions of puzzle\n",
        "print(\"Puzzle of dimensions\", puzzle4.shape)\n",
        "# Display the puzzle paper\n",
        "showPaper(puzzle4)"
      ]
    },
    {
      "cell_type": "code",
      "execution_count": null,
      "id": "f02cbf3c",
      "metadata": {},
      "outputs": [],
      "source": [
        "# Sample puzzle 5 (11x11)\n",
        "paper = np.array(\n",
        "          [[1, 0, 0, 0, 0, 0, 0, 0, 0, 0, 2],\n",
        "           [0, 0, 3, 0, 4, 0, 5, 0, 6, 0, 0],\n",
        "           [0, 0, 0, 0, 0, 0, 0, 0, 0, 0, 0],\n",
        "           [0, 4, 0, 0, 0, 0, 0, 0, 0, 7, 0],\n",
        "           [0, 0, 0, 0, 8, 6, 3, 0, 0, 0, 0],\n",
        "           [0, 1, 0, 0, 0, 0, 0, 0, 0, 9, 0],\n",
        "           [0, 0, 0, 0, 0, 0, 0, 0, 0, 0, 0],\n",
        "           [0, 0, 0, 0, 0, 0, 0, 0, 0, 0, 0],\n",
        "           [0, 0, 0, 2, 0, 7, 0, 9, 0, 0, 0],\n",
        "           [0, 8, 0, 0, 0, 0, 0, 0, 0, 5, 0],\n",
        "           [0, 0, 0, 0, 0, 0, 0, 0, 0, 0, 0]]\n",
        "        )\n",
        "puzzle5 = Numberlink(paper)\n",
        "\n",
        "# Print the dimensions of puzzle\n",
        "print(\"Puzzle of dimensions\", puzzle5.shape)\n",
        "# Display the puzzle paper\n",
        "showPaper(puzzle5)"
      ]
    },
    {
      "cell_type": "markdown",
      "id": "vanilla-sustainability",
      "metadata": {
        "id": "vanilla-sustainability"
      },
      "source": [
        "---\n",
        "## Solution based on Backtracking"
      ]
    },
    {
      "cell_type": "markdown",
      "id": "74a825d4",
      "metadata": {},
      "source": [
        "### Goal Test Predicates\n",
        "\n",
        "Consider the Numberlink puzzle as a problem similar to the map coloring problem -- we need to try to color the whole \"map\" with colors. But in Numberlink, the **goals** change to:\n",
        "1. No number is positioned within the path of any line.\n",
        "    - i.e. If a grid is an end-point with a specific color (number) `k`, **EXACTLY one** of its neighboring grids can also be colored as `k`.\n",
        "2. Lines do not branch or intersect.\n",
        "    - i.e. If a grid is NOT an end-point, it can be colored as `k` only if **EXACTLY two** of its neighboring grids are also colored as `k`."
      ]
    },
    {
      "cell_type": "code",
      "execution_count": null,
      "id": "athletic-reduction",
      "metadata": {
        "id": "athletic-reduction"
      },
      "outputs": [],
      "source": [
        "def isSolved(puzzle: Numberlink):\n",
        "    ''' Check if the puzzle is solved (test the goal predicates)\n",
        "        puzzle: A Numberlink puzzle\n",
        "        return: True if the puzzle is solved, False otherwise\n",
        "    '''\n",
        "    (height, width) = puzzle.shape\n",
        "\n",
        "    # Traverse the entire paper and test each cell against the goal predicates\n",
        "    for i in range(height):\n",
        "        for j in range(width):\n",
        "            pos = (i, j)\n",
        "            k = puzzle.paper[pos]\n",
        "            count = 0\n",
        "\n",
        "            # If pos is an end-point, check if count of neighbors\n",
        "            # with the same color k is exactly 1\n",
        "            if pos in puzzle.ends[k]:\n",
        "                for direction in DIRECTIONS:\n",
        "                    neighbor = getNeighborPos(pos, direction)\n",
        "\n",
        "                    # Skip if neighbor is out of border\n",
        "                    if not isInBorder(neighbor, puzzle.shape):\n",
        "                        continue\n",
        "\n",
        "                    # Count the neighbors with the same color k\n",
        "                    if puzzle.paper[neighbor] == k:\n",
        "                        count += 1\n",
        "                if count != 1:\n",
        "                    return False\n",
        "\n",
        "            # Else (pos is not an end-point), check if count of\n",
        "            # neighbors with the same color k is exactly 2\n",
        "            else:\n",
        "                for direction in DIRECTIONS:\n",
        "                    neighbor = getNeighborPos(pos, direction)\n",
        "                    if not isInBorder(neighbor, puzzle.shape):\n",
        "                        continue\n",
        "                    if puzzle.paper[neighbor] == k:\n",
        "                        count += 1\n",
        "                if count != 2:\n",
        "                    return False\n",
        "    return True"
      ]
    },
    {
      "cell_type": "markdown",
      "id": "useful-trial",
      "metadata": {
        "id": "useful-trial"
      },
      "source": [
        "### Backtracking Search"
      ]
    },
    {
      "cell_type": "code",
      "execution_count": null,
      "id": "considered-square",
      "metadata": {
        "id": "considered-square"
      },
      "outputs": [],
      "source": [
        "# Solve the puzzle using backtracking search\n",
        "def solve1(puzzle: Numberlink, pos: Tuple[int, int]) -> bool:\n",
        "    ''' solve1 tries to solve the Numberlink puzzle using backtracking\n",
        "        puzzle: A Numberlink puzzle\n",
        "        return: True if the puzzle is solved, False if impossible to solve\n",
        "    '''\n",
        "    (height, width) = puzzle.shape\n",
        "    (x, y) = pos\n",
        "\n",
        "    # If we have reached the end, check if the puzzle is solved\n",
        "    if x >= height or y >= width:\n",
        "        return isSolved(puzzle)\n",
        "    \n",
        "    # If the current position has been filled, skip to the next position\n",
        "    if puzzle.paper[pos] != 0:\n",
        "        return solve1(puzzle, getNextPos(width, pos))\n",
        "    \n",
        "    # Try each possible number for the current position\n",
        "    for k in range(1, puzzle.nNumber+1):\n",
        "        puzzle.paper[pos] = k\n",
        "        if solve1(puzzle, getNextPos(width, pos)):\n",
        "            return True # If the puzzle is solved, no need for further search\n",
        "        puzzle.paper[pos] = 0\n",
        "    \n",
        "    return False"
      ]
    },
    {
      "cell_type": "markdown",
      "id": "a549c212",
      "metadata": {},
      "source": [
        "---\n",
        "## Solution based on Constraint Propagation"
      ]
    },
    {
      "cell_type": "markdown",
      "id": "0e641648",
      "metadata": {},
      "source": [
        "### Constraints\n",
        "1. No number is positioned within the path of any line.\n",
        "    - i.e. If a grid is an **end-point** with a specific color (number) `k` and has **four filled neighbors** (including borders), **EXACTLY one** of its neighboring grids can also be colored as `k`.\n",
        "2. Lines do not branch or intersect.\n",
        "    - i.e. If a **non-empty** grid is **NOT an end-point** and has **four filled neighbors** (including borders), it can be colored as `k` only if **EXACTLY two** of its neighboring grids are also colored as `k`."
      ]
    },
    {
      "cell_type": "code",
      "execution_count": null,
      "id": "28bb6926",
      "metadata": {},
      "outputs": [],
      "source": [
        "# Constraint checking function\n",
        "def isSafe(puzzle: Numberlink, pos: Tuple[int, int]) -> bool:\n",
        "    ''' Check if the coloring `k` to `pos` satisfies the constraints\n",
        "        puzzle: A Numberlink puzzle\n",
        "        pos: Position to be colored\n",
        "        return: True if the puzzle is safe, False otherwise\n",
        "    '''\n",
        "    for dir1 in DIRECTIONS:\n",
        "        neighbor1 = getNeighborPos(pos, dir1)\n",
        "        if not isInBorder(neighbor1, puzzle.shape):\n",
        "            continue\n",
        "        \n",
        "        # If neighbor1 is empty, skip\n",
        "        neighbor1_k = puzzle.paper[neighbor1]\n",
        "        if neighbor1_k == 0:\n",
        "            continue\n",
        "        \n",
        "        count = 0\n",
        "        neighbor2_count = countNeighbors(puzzle, neighbor1)\n",
        "        # If neighbor1 is an end-point, and has 4 neighbor grids\n",
        "        # (including border), check if # of neighbor1's neighbors\n",
        "        # (neighbor2) with the same color neighbor1_k == 1\n",
        "        if neighbor1 in puzzle.ends[neighbor1_k] and neighbor2_count == 4:\n",
        "            for dir2 in DIRECTIONS:\n",
        "                neighbor2 = getNeighborPos(neighbor1, dir2)\n",
        "                if not isInBorder(neighbor2, puzzle.shape):\n",
        "                    continue\n",
        "                if puzzle.paper[neighbor2] == neighbor1_k:\n",
        "                    count += 1\n",
        "            if count != 1:\n",
        "                return False\n",
        "        \n",
        "        # Else If neighbor1 has 4 neighbor grids (including \n",
        "        # border), check if # of neighbor1's neighbors\n",
        "        # (neighbor2) with the same color neighbor1_k == 2\n",
        "        elif neighbor2_count == 4:\n",
        "            for dir2 in DIRECTIONS:\n",
        "                neighbor2 = getNeighborPos(neighbor1, dir2)\n",
        "                if not isInBorder(neighbor2, puzzle.shape):\n",
        "                    continue\n",
        "                if puzzle.paper[neighbor2] == neighbor1_k:\n",
        "                    count += 1\n",
        "            if count != 2:\n",
        "                return False\n",
        "    return True"
      ]
    },
    {
      "cell_type": "markdown",
      "id": "22b6961f",
      "metadata": {},
      "source": [
        "### Constraint Propagation Search"
      ]
    },
    {
      "cell_type": "code",
      "execution_count": null,
      "id": "b6b4dff4",
      "metadata": {},
      "outputs": [],
      "source": [
        "# Solution based on constraint propagation\n",
        "def solve2(puzzle: Numberlink, pos: Tuple[int, int]) -> bool:\n",
        "    ''' Solve the Numberlink `puzzle` using constraint propagation\n",
        "        puzzle: A Numberlink puzzle\n",
        "        return: True if the puzzle is solved, False if impossible to solve\n",
        "    '''\n",
        "    (height, width) = puzzle.shape\n",
        "    (x, y) = pos\n",
        "    if x >= height or y >= width:\n",
        "        return True\n",
        "    if puzzle.paper[pos] != 0:\n",
        "        return solve2(puzzle, getNextPos(width, pos))\n",
        "    for k in range(1, puzzle.nNumber+1):\n",
        "        puzzle.paper[pos] = k\n",
        "        if isSafe(puzzle, pos) and solve2(puzzle, getNextPos(width, pos)):\n",
        "            return True\n",
        "        puzzle.paper[pos] = 0\n",
        "    return False\n",
        "\n",
        "if solve2(puzzle, (0, 0)):\n",
        "    print(\"Solved\")\n",
        "    showPaper(puzzle)\n",
        "else:\n",
        "    print(\"Impossible to solve\")"
      ]
    }
  ],
  "metadata": {
    "colab": {
      "provenance": []
    },
    "kernelspec": {
      "display_name": "Python 3 (ipykernel)",
      "language": "python",
      "name": "python3"
    },
    "language_info": {
      "codemirror_mode": {
        "name": "ipython",
        "version": 3
      },
      "file_extension": ".py",
      "mimetype": "text/x-python",
      "name": "python",
      "nbconvert_exporter": "python",
      "pygments_lexer": "ipython3",
      "version": "3.11.4"
    }
  },
  "nbformat": 4,
  "nbformat_minor": 5
}
